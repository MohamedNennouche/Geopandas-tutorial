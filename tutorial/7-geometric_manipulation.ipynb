{
 "cells": [
  {
   "cell_type": "code",
   "execution_count": 1,
   "metadata": {},
   "outputs": [],
   "source": [
    "import geopandas as gpd\n",
    "import matplotlib.pyplot as plt"
   ]
  },
  {
   "cell_type": "markdown",
   "metadata": {},
   "source": [
    "## Constructive Methods"
   ]
  },
  {
   "cell_type": "markdown",
   "metadata": {},
   "source": [
    "- ```GeoSeries.buffer(distance, resolution=16)```\n",
    "Renvoie une GeoSeries de géométries représentant tous les points situés à une distance donnée de chaque objet géométrique.\n",
    "- ```GeoSeries.boundary```\n",
    "Renvoie une GeoSeries d'objets de dimension inférieure représentant la limite théorique de chaque géométrie.\n",
    "- ```GeoSeries.centroid```\n",
    "Renvoie une GeoSeries de points pour chaque centroïde géométrique.\n",
    "- ```GeoSeries.convex_hull```\n",
    "Renvoie une GeoSeries de géométries représentant le plus petit Polygone convexe contenant tous les points de chaque objet, sauf si le nombre de points de l'objet est inférieur à trois. Pour deux points, la coque convexe se réduit à une LineString ; pour 1, à un Point.\n",
    "- ```GeoSeries.envelope```\n",
    "Renvoie une GeoSeries de géométries représentant le point ou le plus petit polygone rectangulaire (avec des côtés parallèles aux axes de coordonnées) qui contient chaque objet.\n",
    "- ```GeoSeries.simplify(tolerance, preserve_topology=True)```\n",
    "Renvoie une GeoSeries contenant une représentation simplifiée de chaque objet.\n",
    "- ```GeoSeries.unary_union```\n",
    "Renvoie une géométrie contenant l'union de toutes les géométries de la GeoSeries."
   ]
  }
 ],
 "metadata": {
  "kernelspec": {
   "display_name": "Python 3.8.13 ('base')",
   "language": "python",
   "name": "python3"
  },
  "language_info": {
   "codemirror_mode": {
    "name": "ipython",
    "version": 3
   },
   "file_extension": ".py",
   "mimetype": "text/x-python",
   "name": "python",
   "nbconvert_exporter": "python",
   "pygments_lexer": "ipython3",
   "version": "3.8.13"
  },
  "orig_nbformat": 4,
  "vscode": {
   "interpreter": {
    "hash": "631af202ec7c40e141c49d63cac6c8cb664469fed6e4d5ddc6436b49edc60500"
   }
  }
 },
 "nbformat": 4,
 "nbformat_minor": 2
}
