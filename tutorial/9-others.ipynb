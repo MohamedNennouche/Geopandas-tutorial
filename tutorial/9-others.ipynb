{
 "cells": [
  {
   "cell_type": "markdown",
   "metadata": {},
   "source": [
    "Pour toutes les autres informations, se référer à la documentation officielle traitant des sujets suivants : \n",
    "- Superposition : [lien](https://geopandas.org/en/stable/docs/user_guide/set_operations.html)\n",
    "- Aggregation avec ```dissolve``` : [lien](https://geopandas.org/en/stable/docs/user_guide/aggregation_with_dissolve.html)\n",
    "- geocoding : [lien](https://geopandas.org/en/stable/docs/user_guide/geocoding.html)"
   ]
  },
  {
   "cell_type": "markdown",
   "metadata": {},
   "source": [
    "## API Reference"
   ]
  },
  {
   "cell_type": "markdown",
   "metadata": {},
   "source": [
    "[lien](https://geopandas.org/en/stable/docs/reference.html)"
   ]
  }
 ],
 "metadata": {
  "kernelspec": {
   "display_name": "Python 3.8.13 ('base')",
   "language": "python",
   "name": "python3"
  },
  "language_info": {
   "name": "python",
   "version": "3.8.13"
  },
  "orig_nbformat": 4,
  "vscode": {
   "interpreter": {
    "hash": "631af202ec7c40e141c49d63cac6c8cb664469fed6e4d5ddc6436b49edc60500"
   }
  }
 },
 "nbformat": 4,
 "nbformat_minor": 2
}
